{
 "cells": [
  {
   "cell_type": "markdown",
   "metadata": {},
   "source": [
    "# Load and Clean data"
   ]
  },
  {
   "cell_type": "code",
   "execution_count": 1,
   "metadata": {},
   "outputs": [
    {
     "name": "stdout",
     "output_type": "stream",
     "text": [
      "Loading and EDA\n",
      "version 5\n"
     ]
    }
   ],
   "source": [
    "from functions import *\n",
    "import warnings\n",
    "warnings.filterwarnings('ignore')\n",
    "RANDOM_SEED = 137\n",
    "test_fraction = 0.2\n",
    "print('Loading and EDA')\n",
    "df,target,df_info = EDA('../input/train.csv')"
   ]
  },
  {
   "cell_type": "markdown",
   "metadata": {},
   "source": [
    "# Split data into training and test set and Set up benchmark model"
   ]
  },
  {
   "cell_type": "code",
   "execution_count": 2,
   "metadata": {},
   "outputs": [
    {
     "name": "stdout",
     "output_type": "stream",
     "text": [
      "Model Performance\n",
      "R2 Score: 0.26% degrees.\n",
      "RMSE = 1.4671\n"
     ]
    },
    {
     "data": {
      "text/plain": [
       "(0.2555468339838146, 1.4670976524971435)"
      ]
     },
     "execution_count": 2,
     "metadata": {},
     "output_type": "execute_result"
    }
   ],
   "source": [
    "X_train, X_test, y_train, y_test = train_test_split(df, target, test_size= test_fraction, random_state=RANDOM_SEED)\n",
    "base_model = RandomForestRegressor(random_state = RANDOM_SEED)\n",
    "base_model.fit(X_train,y_train)\n",
    "evaluate(base_model, X_test, y_test)"
   ]
  },
  {
   "cell_type": "markdown",
   "metadata": {},
   "source": [
    "# Implement Random Forest Regression Model"
   ]
  },
  {
   "cell_type": "code",
   "execution_count": 3,
   "metadata": {},
   "outputs": [
    {
     "name": "stdout",
     "output_type": "stream",
     "text": [
      "Model Performance\n",
      "R2 Score: 0.33% degrees.\n",
      "RMSE = 1.3912\n"
     ]
    },
    {
     "data": {
      "text/plain": [
       "(0.3305878537298952, 1.3911921732133308)"
      ]
     },
     "execution_count": 3,
     "metadata": {},
     "output_type": "execute_result"
    }
   ],
   "source": [
    "best_params_ = {'bootstrap': False,\n",
    " 'max_depth': None,\n",
    " 'max_features': 'sqrt',\n",
    " 'min_samples_leaf': 2,\n",
    " 'min_samples_split': 10,\n",
    " 'n_estimators': 200}\n",
    " \n",
    "rf_best = RandomForestRegressor(**best_params_,\n",
    "                                n_jobs = 8, random_state = RANDOM_SEED)\n",
    "rf_best.fit(X_train,y_train)\n",
    "evaluate(rf_best, X_test, y_test)"
   ]
  },
  {
   "cell_type": "markdown",
   "metadata": {},
   "source": [
    "# Implement XGB Model"
   ]
  },
  {
   "cell_type": "code",
   "execution_count": 4,
   "metadata": {},
   "outputs": [],
   "source": [
    "import lightgbm as lgb\n",
    "import xgboost as xgb\n",
    "import catboost as ctb\n",
    "from hyperopt import hp\n",
    "from hyperopt import fmin, tpe, STATUS_OK, STATUS_FAIL, Trials\n",
    "from permutation_features import permutation_features"
   ]
  },
  {
   "cell_type": "code",
   "execution_count": 5,
   "metadata": {},
   "outputs": [
    {
     "name": "stdout",
     "output_type": "stream",
     "text": [
      "Index(['20aa07010', '22ed6dba3', '87ffda550', '251d1aa17', '963a49cdc',\n",
      "       'a75d400b8', '68a945b18', '63c094ba4', '342e7eb03', '4da206d28',\n",
      "       ...\n",
      "       'a3fb07bfd', 'b8f892930', 'e79e5f72c', 'a396ceeb9', '4dcf81d65',\n",
      "       '8781e4b91', 'ef30f6be5', '6df033973', '23310aa6f', '5831f4c76'],\n",
      "      dtype='object', length=277)\n"
     ]
    }
   ],
   "source": [
    "p_features = permutation_features()\n",
    "features = feature_sel(rf_best,X_train,y_train)"
   ]
  },
  {
   "cell_type": "code",
   "execution_count": 6,
   "metadata": {},
   "outputs": [],
   "source": [
    "def run_xgb(X_train,y_train,X_test,y_test):\n",
    "    xgb_grid_best = {\n",
    "        \"objective\":'reg:squarederror',\n",
    "        'colsample_bytree': 0.5,\n",
    "        'gamma': 5,\n",
    "        'learning_rate': 0.05,\n",
    "        'max_depth': 10,\n",
    "        'n_estimators': 177,\n",
    "        'subsample': 0.8\n",
    "    }\n",
    "    xgb_fit_params = {\n",
    "        'eval_metric': 'rmse',\n",
    "        'early_stopping_rounds': 10,\n",
    "        'verbose': False\n",
    "    }\n",
    "    xgb_para = dict()\n",
    "    xgb_para['reg_params'] = xgb_grid_best\n",
    "    xgb_para['fit_params'] = xgb_fit_params\n",
    "    xgb_para['loss_func' ] = lambda y, pred: np.sqrt(mean_squared_error(y, pred))\n",
    "\n",
    "    xgb_best = xgb.XGBRegressor(**xgb_grid_best)\n",
    "    xgb_best.fit(X_train, y_train,\n",
    "                    eval_set=[(X_train, y_train), (X_test, y_test)],\n",
    "                    **xgb_fit_params)\n",
    "    evaluate(xgb_best, X_test, y_test)\n",
    "    return xgb_best"
   ]
  },
  {
   "cell_type": "code",
   "execution_count": 7,
   "metadata": {},
   "outputs": [
    {
     "name": "stdout",
     "output_type": "stream",
     "text": [
      "Model Performance\n",
      "R2 Score: 0.31% degrees.\n",
      "RMSE = 1.4077\n"
     ]
    }
   ],
   "source": [
    "xgb_best = run_xgb(X_train[features],y_train,X_test[features],y_test)"
   ]
  },
  {
   "cell_type": "markdown",
   "metadata": {},
   "source": [
    "# LGB Model Implementation "
   ]
  },
  {
   "cell_type": "code",
   "execution_count": 8,
   "metadata": {},
   "outputs": [],
   "source": [
    "def run_lgb(X_train,y_train,X_test,y_test):\n",
    "    dev_X, val_X, dev_y, val_y = train_test_split(X_train, y_train, test_size = 0.2, random_state = 137)\n",
    "    lgb_params_best = {\n",
    "        #\"objective\":'reg:squarederror',\n",
    "        \"objective\" : \"regression\",\n",
    "        \"metric\" : \"rmse\",\n",
    "        'learning_rate': np.arange(0.001, 0.1, 0.01)[8],\n",
    "        'max_depth': np.arange(1, 20, 1, dtype=int)[17],\n",
    "        'min_child_weight': np.arange(1, 8, 1, dtype=int)[5],\n",
    "        'colsample_bytree': np.arange(0.4, 0.8, 0.1)[1],\n",
    "        'subsample': 0.8649004443092452,\n",
    "        #'n_estimators':     100\n",
    "    }\n",
    "    lgtrain = lgb.Dataset(dev_X, label=dev_y)\n",
    "    lgval = lgb.Dataset(val_X, label=val_y)\n",
    "    evals_result = {}\n",
    "    model = lgb.train(lgb_params_best, lgtrain, 5000,\n",
    "                  valid_sets=[lgtrain, lgval], \n",
    "                  early_stopping_rounds=150, \n",
    "                  verbose_eval=150, \n",
    "                  evals_result=evals_result)\n",
    "    return model"
   ]
  },
  {
   "cell_type": "code",
   "execution_count": 9,
   "metadata": {},
   "outputs": [
    {
     "name": "stdout",
     "output_type": "stream",
     "text": [
      "Training until validation scores don't improve for 150 rounds\n",
      "[150]\ttraining's rmse: 0.799426\tvalid_1's rmse: 1.37573\n",
      "Early stopping, best iteration is:\n",
      "[75]\ttraining's rmse: 0.980108\tvalid_1's rmse: 1.36492\n"
     ]
    }
   ],
   "source": [
    "lgb_best = run_lgb(X_train[features],y_train,X_test[features],y_test)\n",
    "lgb_pred = lgb_best.predict(X_test[features], num_iteration=lgb_best.best_iteration)"
   ]
  },
  {
   "cell_type": "code",
   "execution_count": 10,
   "metadata": {},
   "outputs": [
    {
     "data": {
      "text/plain": [
       "1.419762573724477"
      ]
     },
     "execution_count": 10,
     "metadata": {},
     "output_type": "execute_result"
    }
   ],
   "source": [
    "loss_func = lambda y, pred: np.sqrt(mean_squared_error(y, pred))\n",
    "loss_func(lgb_pred,y_test)"
   ]
  },
  {
   "cell_type": "markdown",
   "metadata": {},
   "source": [
    "# Combine models to give final prediction"
   ]
  },
  {
   "cell_type": "code",
   "execution_count": 11,
   "metadata": {},
   "outputs": [
    {
     "data": {
      "text/plain": [
       "1.3810009463856616"
      ]
     },
     "execution_count": 11,
     "metadata": {},
     "output_type": "execute_result"
    }
   ],
   "source": [
    "from sklearn.metrics import mean_squared_error,mean_absolute_error,make_scorer\n",
    "xgb_pred = xgb_best.predict(X_test[features])\n",
    "rf_pred = rf_best.predict(X_test)\n",
    "final_pred_t = 0.2 * xgb_pred + 0.6 * rf_pred + 0.2 * lgb_pred\n",
    "loss = loss_func(final_pred_t, y_test)\n",
    "loss "
   ]
  },
  {
   "cell_type": "code",
   "execution_count": 12,
   "metadata": {},
   "outputs": [
    {
     "data": {
      "application/vnd.jupyter.widget-view+json": {
       "model_id": "bc973c1554df4188aba1ecbef8a553da",
       "version_major": 2,
       "version_minor": 0
      },
      "text/plain": [
       "HBox(children=(IntProgress(value=0, max=10), HTML(value='')))"
      ]
     },
     "metadata": {},
     "output_type": "display_data"
    },
    {
     "name": "stdout",
     "output_type": "stream",
     "text": [
      "Model Performance\n",
      "R2 Score: 0.27% degrees.\n",
      "RMSE = 1.6002\n",
      "Training until validation scores don't improve for 150 rounds\n",
      "[150]\ttraining's rmse: 0.561941\tvalid_1's rmse: 1.50243\n",
      "Early stopping, best iteration is:\n",
      "[47]\ttraining's rmse: 0.908787\tvalid_1's rmse: 1.45974\n",
      "Model Performance\n",
      "R2 Score: 0.25% degrees.\n",
      "RMSE = 1.3791\n",
      "Training until validation scores don't improve for 150 rounds\n",
      "[150]\ttraining's rmse: 0.559481\tvalid_1's rmse: 1.52529\n",
      "Early stopping, best iteration is:\n",
      "[48]\ttraining's rmse: 0.913748\tvalid_1's rmse: 1.51589\n",
      "Model Performance\n",
      "R2 Score: 0.30% degrees.\n",
      "RMSE = 1.5614\n",
      "Training until validation scores don't improve for 150 rounds\n",
      "[150]\ttraining's rmse: 0.534886\tvalid_1's rmse: 1.56954\n",
      "Early stopping, best iteration is:\n",
      "[46]\ttraining's rmse: 0.890427\tvalid_1's rmse: 1.54256\n",
      "Model Performance\n",
      "R2 Score: 0.21% degrees.\n",
      "RMSE = 1.3198\n",
      "Training until validation scores don't improve for 150 rounds\n",
      "[150]\ttraining's rmse: 0.529334\tvalid_1's rmse: 1.65959\n",
      "Early stopping, best iteration is:\n",
      "[33]\ttraining's rmse: 1.00935\tvalid_1's rmse: 1.60221\n",
      "Model Performance\n",
      "R2 Score: 0.06% degrees.\n",
      "RMSE = 1.4688\n",
      "Training until validation scores don't improve for 150 rounds\n",
      "[150]\ttraining's rmse: 0.536461\tvalid_1's rmse: 1.72202\n",
      "Early stopping, best iteration is:\n",
      "[30]\ttraining's rmse: 1.04562\tvalid_1's rmse: 1.62118\n",
      "Model Performance\n",
      "R2 Score: 0.24% degrees.\n",
      "RMSE = 1.5117\n",
      "Training until validation scores don't improve for 150 rounds\n",
      "[150]\ttraining's rmse: 0.505252\tvalid_1's rmse: 1.72324\n",
      "Early stopping, best iteration is:\n",
      "[42]\ttraining's rmse: 0.894247\tvalid_1's rmse: 1.68915\n",
      "Model Performance\n",
      "R2 Score: 0.20% degrees.\n",
      "RMSE = 1.5260\n",
      "Training until validation scores don't improve for 150 rounds\n",
      "[150]\ttraining's rmse: 0.502786\tvalid_1's rmse: 1.70189\n",
      "Early stopping, best iteration is:\n",
      "[38]\ttraining's rmse: 0.914985\tvalid_1's rmse: 1.65353\n",
      "Model Performance\n",
      "R2 Score: 0.23% degrees.\n",
      "RMSE = 1.4496\n",
      "Training until validation scores don't improve for 150 rounds\n",
      "[150]\ttraining's rmse: 0.506834\tvalid_1's rmse: 1.68662\n",
      "Early stopping, best iteration is:\n",
      "[29]\ttraining's rmse: 1.01797\tvalid_1's rmse: 1.60935\n",
      "Model Performance\n",
      "R2 Score: 0.22% degrees.\n",
      "RMSE = 1.5503\n",
      "Training until validation scores don't improve for 150 rounds\n",
      "[150]\ttraining's rmse: 0.524152\tvalid_1's rmse: 1.67244\n",
      "Early stopping, best iteration is:\n",
      "[30]\ttraining's rmse: 1.02299\tvalid_1's rmse: 1.60758\n",
      "Model Performance\n",
      "R2 Score: 0.17% degrees.\n",
      "RMSE = 1.4966\n",
      "Training until validation scores don't improve for 150 rounds\n",
      "[150]\ttraining's rmse: 0.525559\tvalid_1's rmse: 1.74541\n",
      "Early stopping, best iteration is:\n",
      "[30]\ttraining's rmse: 1.00672\tvalid_1's rmse: 1.67046\n",
      "\n",
      "mean of rmse 1.401121 , std of rmse 0.090338\n"
     ]
    },
    {
     "data": {
      "image/png": "[encoded data removed]",
      "text/plain": [
       "<Figure size 432x288 with 1 Axes>"
      ]
     },
     "metadata": {},
     "output_type": "display_data"
    }
   ],
   "source": [
    "from tqdm import tqdm_notebook\n",
    "def cross_validate(X,y,xgb,rf,lgb,features):\n",
    "    loss = []\n",
    "    loss_func = lambda y, pred: np.sqrt(mean_squared_error(y, pred))\n",
    "    kf = KFold(n_splits=10, random_state=10, shuffle=False)\n",
    "    for fold, (train_index, test_index) in tqdm_notebook(list(enumerate(list(kf.split(X))[:]))):\n",
    "        #print(\"TRAIN:\", train_index, \"TEST:\", test_index)\n",
    "        X_train, X_test = X.iloc[train_index], X.iloc[test_index]\n",
    "        y_train, y_test = y[train_index], y[test_index]\n",
    "        rf_best.fit(X_train,y_train)\n",
    "        xgb_best = run_xgb(X_train[features],y_train,X_test[features],y_test)\n",
    "        lgb_best = run_lgb(X_train[features],y_train,X_test[features],y_test)\n",
    "        xgb_pred = xgb.predict(X_test[features])\n",
    "        rf_pred = rf.predict(X_test)\n",
    "        lgb_pred = lgb.predict(X_test[features], num_iteration=lgb.best_iteration)\n",
    "        final_pred = 0.2 * xgb_pred + 0.6 * rf_pred + 0.2 * lgb_pred\n",
    "        loss.append(loss_func(final_pred, y_test))\n",
    "    return loss\n",
    "cv_final_results = cross_validate(X_test,y_test,xgb_best,rf_best,lgb_best,features)\n",
    "sns.set(style='darkgrid')\n",
    "plt.ylim(0, 2)\n",
    "sns.lineplot(x=range(10), y=cv_final_results)\n",
    "print('mean of rmse %f , std of rmse %f' % (np.mean(cv_final_results),np.std(cv_final_results)))"
   ]
  },
  {
   "cell_type": "markdown",
   "metadata": {},
   "source": [
    "# Combine model prediction with data pattern"
   ]
  },
  {
   "cell_type": "code",
   "execution_count": 102,
   "metadata": {},
   "outputs": [],
   "source": [
    "all_features = df.columns\n",
    "test = pd.read_csv('../input/test.csv')\n",
    "xgb_pred = xgb_best.predict(test[features])\n",
    "rf_pred = rf_best.predict(test[all_features])\n",
    "lgb_pred = lgb_best.predict(test[features], num_iteration=lgb_best.best_iteration)\n",
    "final_pred = np.expm1(0.2 * xgb_pred + 0.6 * rf_pred + 0.2 * lgb_pred)\n",
    "final_pred = pd.DataFrame(final_pred,index = test.ID)\n",
    "final_pred = final_pred.reset_index()\n",
    "final_pred.columns = ['ID','target']\n",
    "final_pred.to_csv(r'../output/model_prediction_before_pattern.csv',index=False)"
   ]
  },
  {
   "cell_type": "code",
   "execution_count": null,
   "metadata": {},
   "outputs": [],
   "source": []
  },
  {
   "cell_type": "code",
   "execution_count": null,
   "metadata": {},
   "outputs": [],
   "source": []
  },
  {
   "cell_type": "code",
   "execution_count": null,
   "metadata": {},
   "outputs": [],
   "source": []
  }
 ],
 "metadata": {
  "kernelspec": {
   "display_name": "Python 3",
   "language": "python",
   "name": "python3"
  },
  "language_info": {
   "codemirror_mode": {
    "name": "ipython",
    "version": 3
   },
   "file_extension": ".py",
   "mimetype": "text/x-python",
   "name": "python",
   "nbconvert_exporter": "python",
   "pygments_lexer": "ipython3",
   "version": "3.7.4"
  }
 },
 "nbformat": 4,
 "nbformat_minor": 2
}
